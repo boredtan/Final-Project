{
 "cells": [
  {
   "cell_type": "markdown",
   "id": "3f5191b2",
   "metadata": {},
   "source": [
    "## Get list of names"
   ]
  },
  {
   "cell_type": "code",
   "execution_count": 1,
   "id": "d3a830fe",
   "metadata": {
    "scrolled": true
   },
   "outputs": [
    {
     "name": "stdout",
     "output_type": "stream",
     "text": [
      "['Bogum', 'Chris', 'Emma', 'Jackie', 'Michelle', 'Nicki', 'Obama', 'Priyanka', 'Taeyeon', 'Zendaya']\n"
     ]
    }
   ],
   "source": [
    "import os\n",
    "nameList = os.listdir(\"/Users/Bryan Tan/Desktop/Project/Dataset/Train/Image/\")\n",
    "print(nameList) "
   ]
  },
  {
   "cell_type": "markdown",
   "id": "1ecc48e9",
   "metadata": {},
   "source": [
    "## Load images"
   ]
  },
  {
   "cell_type": "code",
   "execution_count": 2,
   "id": "b67308dc",
   "metadata": {},
   "outputs": [],
   "source": [
    "import face_recognition\n",
    "\n",
    "bogum_encoding = face_recognition.face_encodings(face_recognition.load_image_file(\"/Users/Bryan Tan/Desktop/Project/Dataset/Train/Image/Bogum/8.jpg\"))[0]\n",
    "chris_encoding = face_recognition.face_encodings(face_recognition.load_image_file(\"/Users/Bryan Tan/Desktop/Project/Dataset/Train/Image/Chris/7.jpg\"))[0]\n",
    "emma_encoding = face_recognition.face_encodings(face_recognition.load_image_file(\"/Users/Bryan Tan/Desktop/Project/Dataset/Train/Image/Emma/1.jpg\"))[0]\n",
    "jackie_encoding = face_recognition.face_encodings(face_recognition.load_image_file(\"/Users/Bryan Tan/Desktop/Project/Dataset/Train/Image/Jackie/3.jpg\"))[0]\n",
    "michelle_encoding = face_recognition.face_encodings(face_recognition.load_image_file(\"/Users/Bryan Tan/Desktop/Project/Dataset/Train/Image/Michelle/3.jpg\"))[0]\n",
    "nicki_encoding = face_recognition.face_encodings(face_recognition.load_image_file(\"/Users/Bryan Tan/Desktop/Project/Dataset/Train/Image/Nicki/6.jpg\"))[0]\n",
    "obama_encoding = face_recognition.face_encodings(face_recognition.load_image_file(\"/Users/Bryan Tan/Desktop/Project/Dataset/Train/Image/Obama/3.jpg\"))[0]\n",
    "priyanka_encoding = face_recognition.face_encodings(face_recognition.load_image_file(\"/Users/Bryan Tan/Desktop/Project/Dataset/Train/Image/Priyanka/1.jpg\"))[0]\n",
    "taeyeon_encoding = face_recognition.face_encodings(face_recognition.load_image_file(\"/Users/Bryan Tan/Desktop/Project/Dataset/Train/Image/Taeyeon/2.jpg\"))[0]\n",
    "zendaya_encoding = face_recognition.face_encodings(face_recognition.load_image_file(\"/Users/Bryan Tan/Desktop/Project/Dataset/Train/Image/Zendaya/2.jpg\"))[0]"
   ]
  },
  {
   "cell_type": "markdown",
   "id": "fc102925",
   "metadata": {},
   "source": [
    "## Array to store known images"
   ]
  },
  {
   "cell_type": "code",
   "execution_count": 3,
   "id": "c36a37cd",
   "metadata": {},
   "outputs": [],
   "source": [
    "known_face_encodings = [bogum_encoding, chris_encoding, emma_encoding, jackie_encoding, michelle_encoding, nicki_encoding, obama_encoding, priyanka_encoding, taeyeon_encoding, zendaya_encoding]"
   ]
  },
  {
   "cell_type": "markdown",
   "id": "7220bb78",
   "metadata": {},
   "source": [
    "## Function to predict face"
   ]
  },
  {
   "cell_type": "code",
   "execution_count": 4,
   "id": "d692caaa",
   "metadata": {},
   "outputs": [],
   "source": [
    "import numpy as np\n",
    "\n",
    "# Takes in personName as parameter to get folder name\n",
    "def matchFace(personName):\n",
    "    # Loop through all 3 test images\n",
    "    for imageNum in range(1,4):\n",
    "        # Set image path of test image\n",
    "        testImagePath = \"/Users/Bryan Tan/Desktop/Project/Dataset/Test/Image/\" + personName + \"/\" + str(imageNum) + \".jpg\"\n",
    "        # Load test image\n",
    "        test_image = face_recognition.load_image_file(testImagePath)\n",
    "        test_encoding = face_recognition.face_encodings(test_image)[0]\n",
    "        # Compare faces\n",
    "        matches = face_recognition.compare_faces(known_face_encodings, test_encoding)\n",
    "        name = \"Unknown\"\n",
    "        # Check euclidean distance \n",
    "        # The smaller the distance, the better\n",
    "        face_distances = face_recognition.face_distance(known_face_encodings, test_encoding)\n",
    "        # Get index of matched face\n",
    "        best_match_index = np.argmin(face_distances)\n",
    "        if matches[best_match_index]:\n",
    "            # Gets name of matched face\n",
    "            name = nameList[best_match_index]\n",
    "        d = { label: value for label, value in zip(nameList, face_distances) }\n",
    "        print(\"Image number \" + str(imageNum))\n",
    "        print(\"Match results: \" + name)\n",
    "        print(\"Euclidean distance\")\n",
    "        print(d)\n",
    "        print(\"====================================================================================================\")\n",
    "        print()"
   ]
  },
  {
   "cell_type": "code",
   "execution_count": 5,
   "id": "dd16a64e",
   "metadata": {
    "scrolled": false
   },
   "outputs": [
    {
     "name": "stdout",
     "output_type": "stream",
     "text": [
      "Image number 1\n",
      "Match results: Taeyeon\n",
      "Euclidean distance\n",
      "{'Bogum': 0.5898154400183793, 'Chris': 0.7246541963801695, 'Emma': 0.7977599431549026, 'Jackie': 0.6429743717069389, 'Michelle': 0.6718477547175765, 'Nicki': 0.7673032203649979, 'Obama': 0.7487600122745863, 'Priyanka': 0.762932349909677, 'Taeyeon': 0.5545969855759401, 'Zendaya': 0.7618611708593613}\n",
      "====================================================================================================\n",
      "\n",
      "Image number 2\n",
      "Match results: Bogum\n",
      "Euclidean distance\n",
      "{'Bogum': 0.4130276434654201, 'Chris': 0.8378719728878928, 'Emma': 0.8983296818754469, 'Jackie': 0.6827473632952206, 'Michelle': 0.6586376027317392, 'Nicki': 0.7977979334558662, 'Obama': 0.8142132151531889, 'Priyanka': 0.8108221746685873, 'Taeyeon': 0.5201828043049266, 'Zendaya': 0.7726855986718891}\n",
      "====================================================================================================\n",
      "\n",
      "Image number 3\n",
      "Match results: Bogum\n",
      "Euclidean distance\n",
      "{'Bogum': 0.4495999680068465, 'Chris': 0.8506970323501706, 'Emma': 0.8315617877054919, 'Jackie': 0.6739174678827785, 'Michelle': 0.684109979215128, 'Nicki': 0.7440259036256724, 'Obama': 0.8413018533914378, 'Priyanka': 0.7692964693954286, 'Taeyeon': 0.4831744507071603, 'Zendaya': 0.7817837857991219}\n",
      "====================================================================================================\n",
      "\n"
     ]
    }
   ],
   "source": [
    "matchFace(\"Bogum\")"
   ]
  },
  {
   "cell_type": "markdown",
   "id": "a06a0199",
   "metadata": {},
   "source": [
    "## Prediction results for Bogum\n",
    "\n",
    "Image 1 : Bogum\n",
    "<br>\n",
    "Image 2: Bogum\n",
    "<br>\n",
    "Image 3: Bogum\n",
    "\n",
    "Accuracy: 3/3"
   ]
  },
  {
   "cell_type": "code",
   "execution_count": 6,
   "id": "0dcddb42",
   "metadata": {
    "scrolled": false
   },
   "outputs": [
    {
     "name": "stdout",
     "output_type": "stream",
     "text": [
      "Image number 1\n",
      "Match results: Chris\n",
      "Euclidean distance\n",
      "{'Bogum': 0.8885013165955388, 'Chris': 0.5238604752090859, 'Emma': 1.0272336067284913, 'Jackie': 1.0011837346222972, 'Michelle': 0.9495396204171478, 'Nicki': 0.9563580942098241, 'Obama': 0.9578590134073013, 'Priyanka': 0.9308560459299294, 'Taeyeon': 0.9141195627264239, 'Zendaya': 0.9430060496310375}\n",
      "====================================================================================================\n",
      "\n",
      "Image number 2\n",
      "Match results: Chris\n",
      "Euclidean distance\n",
      "{'Bogum': 0.8697748426432906, 'Chris': 0.521561126897045, 'Emma': 1.023570556217378, 'Jackie': 0.9771512172921667, 'Michelle': 0.9154769991969467, 'Nicki': 0.9767611244936005, 'Obama': 0.9020814258704705, 'Priyanka': 0.9131894940312364, 'Taeyeon': 0.8871869289938136, 'Zendaya': 0.9560350831082138}\n",
      "====================================================================================================\n",
      "\n",
      "Image number 3\n",
      "Match results: Chris\n",
      "Euclidean distance\n",
      "{'Bogum': 0.8598026423504687, 'Chris': 0.5555486573417306, 'Emma': 1.0281587742302207, 'Jackie': 0.9483786034402574, 'Michelle': 0.9408685870445556, 'Nicki': 0.9611395979537307, 'Obama': 0.9095280932709704, 'Priyanka': 0.8914542204815908, 'Taeyeon': 0.8887402353227561, 'Zendaya': 0.9383638471299784}\n",
      "====================================================================================================\n",
      "\n"
     ]
    }
   ],
   "source": [
    "matchFace(\"Chris\")"
   ]
  },
  {
   "cell_type": "markdown",
   "id": "06516330",
   "metadata": {},
   "source": [
    "## Prediction results for Chris\n",
    "\n",
    "Image 1 : Chris\n",
    "<br>\n",
    "Image 2: Chris\n",
    "<br>\n",
    "Image 3: Chris\n",
    "\n",
    "Accuracy: 3/3"
   ]
  },
  {
   "cell_type": "code",
   "execution_count": 7,
   "id": "fe6bedb1",
   "metadata": {
    "scrolled": false
   },
   "outputs": [
    {
     "name": "stdout",
     "output_type": "stream",
     "text": [
      "Image number 1\n",
      "Match results: Emma\n",
      "Euclidean distance\n",
      "{'Bogum': 0.8601134217961541, 'Chris': 0.9586361294466127, 'Emma': 0.42526590077971255, 'Jackie': 0.9760529305765361, 'Michelle': 0.9045121812658486, 'Nicki': 0.8804206805838118, 'Obama': 1.0577820358799122, 'Priyanka': 0.8231371640847008, 'Taeyeon': 0.8372139827723462, 'Zendaya': 0.8481013988263323}\n",
      "====================================================================================================\n",
      "\n",
      "Image number 2\n",
      "Match results: Emma\n",
      "Euclidean distance\n",
      "{'Bogum': 0.883914877986586, 'Chris': 0.9361806082185216, 'Emma': 0.4147963508315463, 'Jackie': 0.982626031093793, 'Michelle': 0.9501729307690578, 'Nicki': 0.8970391546283274, 'Obama': 0.9989692180184094, 'Priyanka': 0.8233441191591501, 'Taeyeon': 0.8559855659388553, 'Zendaya': 0.8349900152207643}\n",
      "====================================================================================================\n",
      "\n",
      "Image number 3\n",
      "Match results: Emma\n",
      "Euclidean distance\n",
      "{'Bogum': 0.9154845911161623, 'Chris': 0.9238582293756741, 'Emma': 0.4692776994267164, 'Jackie': 0.9241578125220598, 'Michelle': 0.8733192496929684, 'Nicki': 0.9147246708135055, 'Obama': 1.0308869190626762, 'Priyanka': 0.8532379722419584, 'Taeyeon': 0.826776179346853, 'Zendaya': 0.883408164986347}\n",
      "====================================================================================================\n",
      "\n"
     ]
    }
   ],
   "source": [
    "matchFace(\"Emma\")"
   ]
  },
  {
   "cell_type": "markdown",
   "id": "1e924c34",
   "metadata": {},
   "source": [
    "## Prediction results for Emma\n",
    "\n",
    "Image 1 : Emma\n",
    "<br>\n",
    "Image 2: Emma\n",
    "<br>\n",
    "Image 3: Emma\n",
    "\n",
    "Accuracy: 3/3"
   ]
  },
  {
   "cell_type": "code",
   "execution_count": 8,
   "id": "55fc4304",
   "metadata": {
    "scrolled": false
   },
   "outputs": [
    {
     "name": "stdout",
     "output_type": "stream",
     "text": [
      "Image number 1\n",
      "Match results: Jackie\n",
      "Euclidean distance\n",
      "{'Bogum': 0.6978839628880741, 'Chris': 0.9449792274165061, 'Emma': 0.9712849369609419, 'Jackie': 0.45262497315732314, 'Michelle': 0.7634207696785833, 'Nicki': 0.7931552977725627, 'Obama': 0.7969518671715913, 'Priyanka': 0.9592036687694596, 'Taeyeon': 0.6517138418536768, 'Zendaya': 0.8964020423677912}\n",
      "====================================================================================================\n",
      "\n",
      "Image number 2\n",
      "Match results: Jackie\n",
      "Euclidean distance\n",
      "{'Bogum': 0.7109165886641691, 'Chris': 0.9777304924803081, 'Emma': 1.0143243662854398, 'Jackie': 0.3450099478869302, 'Michelle': 0.7418408799650272, 'Nicki': 0.792502674494498, 'Obama': 0.7114749861609153, 'Priyanka': 0.9861924564796514, 'Taeyeon': 0.6804646496678199, 'Zendaya': 0.8437478807772745}\n",
      "====================================================================================================\n",
      "\n",
      "Image number 3\n",
      "Match results: Jackie\n",
      "Euclidean distance\n",
      "{'Bogum': 0.7175514338451335, 'Chris': 0.9376285898378115, 'Emma': 1.0139588915562665, 'Jackie': 0.43056445649545705, 'Michelle': 0.76412790016118, 'Nicki': 0.8073816401681082, 'Obama': 0.8203570066753749, 'Priyanka': 0.98329004439965, 'Taeyeon': 0.6816591310134107, 'Zendaya': 0.9147241222955927}\n",
      "====================================================================================================\n",
      "\n"
     ]
    }
   ],
   "source": [
    "matchFace(\"Jackie\")"
   ]
  },
  {
   "cell_type": "markdown",
   "id": "0f1d4866",
   "metadata": {},
   "source": [
    "## Prediction results for Jackie\n",
    "\n",
    "Image 1 : Jackie\n",
    "<br>\n",
    "Image 2: Jackie\n",
    "<br>\n",
    "Image 3: Jackie\n",
    "\n",
    "Accuracy: 3/3"
   ]
  },
  {
   "cell_type": "code",
   "execution_count": 9,
   "id": "0b2a0550",
   "metadata": {
    "scrolled": false
   },
   "outputs": [
    {
     "name": "stdout",
     "output_type": "stream",
     "text": [
      "Image number 1\n",
      "Match results: Michelle\n",
      "Euclidean distance\n",
      "{'Bogum': 0.6631297355883369, 'Chris': 0.9054680358592387, 'Emma': 0.9079791587751475, 'Jackie': 0.7026302521005787, 'Michelle': 0.4966704838423925, 'Nicki': 0.7083762033886919, 'Obama': 0.8863532834016636, 'Priyanka': 0.8028326262775608, 'Taeyeon': 0.5994113537926251, 'Zendaya': 0.7680956275425271}\n",
      "====================================================================================================\n",
      "\n",
      "Image number 2\n",
      "Match results: Michelle\n",
      "Euclidean distance\n",
      "{'Bogum': 0.7087166852544414, 'Chris': 0.8769501203434232, 'Emma': 0.8563684103769194, 'Jackie': 0.7530236128700919, 'Michelle': 0.38216267753128824, 'Nicki': 0.7373421721216868, 'Obama': 0.9218888684837108, 'Priyanka': 0.7376152008145134, 'Taeyeon': 0.5902341319747832, 'Zendaya': 0.7278292570094334}\n",
      "====================================================================================================\n",
      "\n",
      "Image number 3\n",
      "Match results: Michelle\n",
      "Euclidean distance\n",
      "{'Bogum': 0.7542704154714927, 'Chris': 0.9558931030595094, 'Emma': 0.8299389136028786, 'Jackie': 0.7588356252685413, 'Michelle': 0.3490389557198144, 'Nicki': 0.7663281685720649, 'Obama': 0.9430432051775121, 'Priyanka': 0.8391765406727288, 'Taeyeon': 0.6182536941235922, 'Zendaya': 0.7719263758082867}\n",
      "====================================================================================================\n",
      "\n"
     ]
    }
   ],
   "source": [
    "matchFace(\"Michelle\")"
   ]
  },
  {
   "cell_type": "markdown",
   "id": "5d83fc3f",
   "metadata": {},
   "source": [
    "## Prediction results for Michelle\n",
    "\n",
    "Image 1 : Michelle\n",
    "<br>\n",
    "Image 2: Michelle\n",
    "<br>\n",
    "Image 3: Michelle\n",
    "\n",
    "Accuracy: 3/3"
   ]
  },
  {
   "cell_type": "code",
   "execution_count": 10,
   "id": "2cddddf4",
   "metadata": {
    "scrolled": false
   },
   "outputs": [
    {
     "name": "stdout",
     "output_type": "stream",
     "text": [
      "Image number 1\n",
      "Match results: Nicki\n",
      "Euclidean distance\n",
      "{'Bogum': 0.809491281289525, 'Chris': 1.010273808525264, 'Emma': 0.9975572041855281, 'Jackie': 0.8695499204252868, 'Michelle': 0.7720742580178909, 'Nicki': 0.551601934884432, 'Obama': 0.8794300051712527, 'Priyanka': 0.8482405186831776, 'Taeyeon': 0.76609424063044, 'Zendaya': 0.7158155220429251}\n",
      "====================================================================================================\n",
      "\n",
      "Image number 2\n",
      "Match results: Nicki\n",
      "Euclidean distance\n",
      "{'Bogum': 0.7453522932937646, 'Chris': 0.9532981392187159, 'Emma': 0.9278448413077367, 'Jackie': 0.7996833807715813, 'Michelle': 0.6996477279211084, 'Nicki': 0.38468359371986977, 'Obama': 0.8457650240588022, 'Priyanka': 0.8251305486915343, 'Taeyeon': 0.7067572031141917, 'Zendaya': 0.6889857524254235}\n",
      "====================================================================================================\n",
      "\n",
      "Image number 3\n",
      "Match results: Nicki\n",
      "Euclidean distance\n",
      "{'Bogum': 0.7942903411534384, 'Chris': 1.0149480184322375, 'Emma': 0.9784171193785886, 'Jackie': 0.8568319625491702, 'Michelle': 0.7843669946835423, 'Nicki': 0.5520408692264246, 'Obama': 0.8894193346649766, 'Priyanka': 0.8203005179112233, 'Taeyeon': 0.7854860982688266, 'Zendaya': 0.6739344297522918}\n",
      "====================================================================================================\n",
      "\n"
     ]
    }
   ],
   "source": [
    "matchFace(\"Nicki\")"
   ]
  },
  {
   "cell_type": "markdown",
   "id": "1d91a275",
   "metadata": {},
   "source": [
    "## Prediction results for Nicki\n",
    "\n",
    "Image 1 : Nicki\n",
    "<br>\n",
    "Image 2: Nicki\n",
    "<br>\n",
    "Image 3: Nicki\n",
    "\n",
    "Accuracy: 3/3"
   ]
  },
  {
   "cell_type": "code",
   "execution_count": 11,
   "id": "7c1d5e54",
   "metadata": {
    "scrolled": false
   },
   "outputs": [
    {
     "name": "stdout",
     "output_type": "stream",
     "text": [
      "Image number 1\n",
      "Match results: Obama\n",
      "Euclidean distance\n",
      "{'Bogum': 0.8781320900308213, 'Chris': 0.9129682294666864, 'Emma': 0.9978989058498723, 'Jackie': 0.7250982631502043, 'Michelle': 0.9406101672194211, 'Nicki': 0.8178708069313482, 'Obama': 0.38144656605568383, 'Priyanka': 0.8661656002521582, 'Taeyeon': 0.9194609205800801, 'Zendaya': 0.7545686084824703}\n",
      "====================================================================================================\n",
      "\n",
      "Image number 2\n",
      "Match results: Obama\n",
      "Euclidean distance\n",
      "{'Bogum': 0.827785335935977, 'Chris': 0.887727041878476, 'Emma': 0.9800476583642646, 'Jackie': 0.7056179280516682, 'Michelle': 0.8789540452681521, 'Nicki': 0.8454430480921138, 'Obama': 0.32144497730809296, 'Priyanka': 0.8892652581585307, 'Taeyeon': 0.8553304740504027, 'Zendaya': 0.7549958645115482}\n",
      "====================================================================================================\n",
      "\n",
      "Image number 3\n",
      "Match results: Obama\n",
      "Euclidean distance\n",
      "{'Bogum': 0.9135922390475054, 'Chris': 0.9633617942484911, 'Emma': 1.0597979532865218, 'Jackie': 0.7124269289582414, 'Michelle': 0.8753545580413369, 'Nicki': 0.9006978255125317, 'Obama': 0.5016002895418955, 'Priyanka': 0.9756710251323085, 'Taeyeon': 0.8284910753815433, 'Zendaya': 0.8661340190809014}\n",
      "====================================================================================================\n",
      "\n"
     ]
    }
   ],
   "source": [
    "matchFace(\"Obama\")"
   ]
  },
  {
   "cell_type": "markdown",
   "id": "d62c5e18",
   "metadata": {},
   "source": [
    "## Prediction results for Obama\n",
    "\n",
    "Image 1 : Obama\n",
    "<br>\n",
    "Image 2: Obama\n",
    "<br>\n",
    "Image 3: Obama\n",
    "\n",
    "Accuracy: 3/3"
   ]
  },
  {
   "cell_type": "code",
   "execution_count": 12,
   "id": "dd5458c1",
   "metadata": {
    "scrolled": false
   },
   "outputs": [
    {
     "name": "stdout",
     "output_type": "stream",
     "text": [
      "Image number 1\n",
      "Match results: Priyanka\n",
      "Euclidean distance\n",
      "{'Bogum': 0.8341997704435594, 'Chris': 0.8768258889748161, 'Emma': 0.7572508853979109, 'Jackie': 0.9294991580679076, 'Michelle': 0.8283387166516976, 'Nicki': 0.8439534038300679, 'Obama': 0.890285601559091, 'Priyanka': 0.33536571782483865, 'Taeyeon': 0.8158953133516512, 'Zendaya': 0.7320610302396446}\n",
      "====================================================================================================\n",
      "\n",
      "Image number 2\n",
      "Match results: Priyanka\n",
      "Euclidean distance\n",
      "{'Bogum': 0.9193592985236368, 'Chris': 0.916080745538157, 'Emma': 0.7450893240244042, 'Jackie': 0.9556240278161979, 'Michelle': 0.8276108031256998, 'Nicki': 0.9089101816794046, 'Obama': 0.9604287944180933, 'Priyanka': 0.3810657179818127, 'Taeyeon': 0.8163308713096555, 'Zendaya': 0.8018099801902276}\n",
      "====================================================================================================\n",
      "\n",
      "Image number 3\n",
      "Match results: Priyanka\n",
      "Euclidean distance\n",
      "{'Bogum': 0.8942099042354247, 'Chris': 0.935072824664366, 'Emma': 0.7231863936734212, 'Jackie': 0.9591122284573365, 'Michelle': 0.8614126415052926, 'Nicki': 0.906873001608498, 'Obama': 0.9776731239433788, 'Priyanka': 0.3890998075515847, 'Taeyeon': 0.8151144714741763, 'Zendaya': 0.7832879659718236}\n",
      "====================================================================================================\n",
      "\n"
     ]
    }
   ],
   "source": [
    "matchFace(\"Priyanka\")"
   ]
  },
  {
   "cell_type": "markdown",
   "id": "de8178b2",
   "metadata": {},
   "source": [
    "## Prediction results for Priyanka\n",
    "\n",
    "Image 1 : Priyanka\n",
    "<br>\n",
    "Image 2: Priyanka\n",
    "<br>\n",
    "Image 3: Priyanka\n",
    "\n",
    "Accuracy: 3/3"
   ]
  },
  {
   "cell_type": "code",
   "execution_count": 13,
   "id": "3894cfec",
   "metadata": {
    "scrolled": false
   },
   "outputs": [
    {
     "name": "stdout",
     "output_type": "stream",
     "text": [
      "Image number 1\n",
      "Match results: Taeyeon\n",
      "Euclidean distance\n",
      "{'Bogum': 0.5920254761339037, 'Chris': 0.9626469223178551, 'Emma': 0.7488191921403343, 'Jackie': 0.8062927989377612, 'Michelle': 0.6320100147825108, 'Nicki': 0.712688985353604, 'Obama': 0.9546529198653366, 'Priyanka': 0.8249927752577099, 'Taeyeon': 0.4734857038953698, 'Zendaya': 0.7998095163961184}\n",
      "====================================================================================================\n",
      "\n",
      "Image number 2\n",
      "Match results: Taeyeon\n",
      "Euclidean distance\n",
      "{'Bogum': 0.599070007310817, 'Chris': 0.9312887803877503, 'Emma': 0.7887444010738703, 'Jackie': 0.7614231856492825, 'Michelle': 0.5565936717041635, 'Nicki': 0.6711689106453247, 'Obama': 0.9655442655490378, 'Priyanka': 0.8296610869524136, 'Taeyeon': 0.4017739646720617, 'Zendaya': 0.7912960137279261}\n",
      "====================================================================================================\n",
      "\n",
      "Image number 3\n",
      "Match results: Taeyeon\n",
      "Euclidean distance\n",
      "{'Bogum': 0.6497583038136457, 'Chris': 0.9708442147991452, 'Emma': 0.8484876119505183, 'Jackie': 0.7569020499430228, 'Michelle': 0.6360743721985455, 'Nicki': 0.7447327133395731, 'Obama': 0.9352601331174103, 'Priyanka': 0.8287612506718224, 'Taeyeon': 0.3422348392045973, 'Zendaya': 0.8308230722613735}\n",
      "====================================================================================================\n",
      "\n"
     ]
    }
   ],
   "source": [
    "matchFace(\"Taeyeon\")"
   ]
  },
  {
   "cell_type": "markdown",
   "id": "69e054e5",
   "metadata": {},
   "source": [
    "## Prediction results for Taeyeon\n",
    "\n",
    "Image 1 : Taeyeon\n",
    "<br>\n",
    "Image 2: Taeyeon\n",
    "<br>\n",
    "Image 3: Taeyeon\n",
    "\n",
    "Accuracy: 3/3"
   ]
  },
  {
   "cell_type": "code",
   "execution_count": 14,
   "id": "cf2afe1f",
   "metadata": {
    "scrolled": false
   },
   "outputs": [
    {
     "name": "stdout",
     "output_type": "stream",
     "text": [
      "Image number 1\n",
      "Match results: Zendaya\n",
      "Euclidean distance\n",
      "{'Bogum': 0.7948337713877578, 'Chris': 0.9670870204541661, 'Emma': 0.8964103640595387, 'Jackie': 0.9008194921631241, 'Michelle': 0.7955655112744238, 'Nicki': 0.6834358296147718, 'Obama': 0.864221248304567, 'Priyanka': 0.7732618159016099, 'Taeyeon': 0.8280621153240612, 'Zendaya': 0.5526914014755454}\n",
      "====================================================================================================\n",
      "\n",
      "Image number 2\n",
      "Match results: Zendaya\n",
      "Euclidean distance\n",
      "{'Bogum': 0.8038157959518734, 'Chris': 0.9647848816799733, 'Emma': 0.8442307695932554, 'Jackie': 0.8676999332348654, 'Michelle': 0.7579935335477578, 'Nicki': 0.7360424732741727, 'Obama': 0.8389640151282458, 'Priyanka': 0.7223397998179659, 'Taeyeon': 0.7877058953967756, 'Zendaya': 0.5358324998454541}\n",
      "====================================================================================================\n",
      "\n",
      "Image number 3\n",
      "Match results: Zendaya\n",
      "Euclidean distance\n",
      "{'Bogum': 0.8151590764844198, 'Chris': 1.0274349761511243, 'Emma': 0.8972689642342032, 'Jackie': 0.911149351730739, 'Michelle': 0.7842567217881856, 'Nicki': 0.6959603684187564, 'Obama': 0.8590535766401347, 'Priyanka': 0.8115779494713676, 'Taeyeon': 0.8162038970108084, 'Zendaya': 0.5460315604870414}\n",
      "====================================================================================================\n",
      "\n"
     ]
    }
   ],
   "source": [
    "matchFace(\"Zendaya\")"
   ]
  },
  {
   "cell_type": "markdown",
   "id": "4af32a34",
   "metadata": {},
   "source": [
    "## Prediction results for Zendaya\n",
    "\n",
    "Image 1 : Zendaya\n",
    "<br>\n",
    "Image 2: Zendaya\n",
    "<br>\n",
    "Image 3: Zendaya\n",
    "\n",
    "Accuracy: 3/3"
   ]
  }
 ],
 "metadata": {
  "kernelspec": {
   "display_name": "Python 3 (ipykernel)",
   "language": "python",
   "name": "python3"
  },
  "language_info": {
   "codemirror_mode": {
    "name": "ipython",
    "version": 3
   },
   "file_extension": ".py",
   "mimetype": "text/x-python",
   "name": "python",
   "nbconvert_exporter": "python",
   "pygments_lexer": "ipython3",
   "version": "3.9.13"
  }
 },
 "nbformat": 4,
 "nbformat_minor": 5
}

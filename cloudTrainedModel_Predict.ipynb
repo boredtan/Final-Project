{
 "cells": [
  {
   "cell_type": "markdown",
   "id": "7bc97eb7",
   "metadata": {},
   "source": [
    "## Function to predict results"
   ]
  },
  {
   "cell_type": "code",
   "execution_count": 1,
   "id": "ceefe5d6",
   "metadata": {},
   "outputs": [],
   "source": [
    "# Import libraries neeeded\n",
    "from keras.models import load_model  \n",
    "from PIL import Image, ImageOps  \n",
    "import numpy as np\n",
    "\n",
    "def predictPerson(person, imageNum):\n",
    "    # Get image path for test image\n",
    "    imagePath = \"/Users/Bryan Tan/Desktop/Project/Dataset/Test/Image/\"\n",
    "    imagePath = imagePath + person + \"/\" + str(imageNum) + \".jpg\"\n",
    "    # Disable scientific notation for clarity\n",
    "    np.set_printoptions(suppress=True)\n",
    "\n",
    "    # Load model\n",
    "    model = load_model(\"keras_Model.h5\", compile=False)\n",
    "\n",
    "    # Load labels\n",
    "    class_names = open(\"labels.txt\", \"r\").readlines()\n",
    "\n",
    "    data = np.ndarray(shape=(1, 224, 224, 3), dtype=np.float32)\n",
    "    \n",
    "    # Load image\n",
    "    image = Image.open(imagePath).convert(\"RGB\")\n",
    "\n",
    "    # Resize image to be at least 224x224 and then cropping from the center\n",
    "    size = (224, 224)\n",
    "    image = ImageOps.fit(image, size, Image.Resampling.LANCZOS)\n",
    "\n",
    "    # Convert image into a numpy array\n",
    "    image_array = np.asarray(image)\n",
    "\n",
    "    # Normalize image\n",
    "    normalized_image_array = (image_array.astype(np.float32) / 127.5) - 1\n",
    "\n",
    "    # Load image into the array\n",
    "    data[0] = normalized_image_array\n",
    "\n",
    "    # Predicts the model\n",
    "    prediction = model.predict(data)\n",
    "    index = np.argmax(prediction)\n",
    "    class_name = class_names[index]\n",
    "    confidence_score = prediction[0][index]\n",
    "\n",
    "    # Print test image number\n",
    "    print(\"Image \" + str(imageNum))\n",
    "    # Print predicted person name\n",
    "    print(\"Class:\", class_name[2:], end=\"\")\n",
    "    # Print confidence score\n",
    "    print(\"Confidence Score:\", confidence_score)\n"
   ]
  },
  {
   "cell_type": "markdown",
   "id": "5c4ad05f",
   "metadata": {},
   "source": [
    "## Prediction results"
   ]
  },
  {
   "cell_type": "code",
   "execution_count": 2,
   "id": "f1b4bb69",
   "metadata": {},
   "outputs": [
    {
     "name": "stdout",
     "output_type": "stream",
     "text": [
      "1/1 [==============================] - 2s 2s/step\n",
      "Image 1\n",
      "Class: Bogum\n",
      "Confidence Score: 0.34907728\n",
      "1/1 [==============================] - 3s 3s/step\n",
      "Image 2\n",
      "Class: Bogum\n",
      "Confidence Score: 0.8605563\n",
      "1/1 [==============================] - 3s 3s/step\n",
      "Image 3\n",
      "Class: Bogum\n",
      "Confidence Score: 0.77900887\n"
     ]
    }
   ],
   "source": [
    "for imageNum in range (1,4):\n",
    "    predictPerson(\"Bogum\", imageNum)"
   ]
  },
  {
   "cell_type": "markdown",
   "id": "7f8ba2da",
   "metadata": {},
   "source": [
    "## Prediction results for Bogum\n",
    "\n",
    "Image 1 : Bogum\n",
    "<br>\n",
    "Image 2: Bogum\n",
    "<br>\n",
    "Image 3: Bogum\n",
    "\n",
    "Accuracy: 3/3"
   ]
  },
  {
   "cell_type": "code",
   "execution_count": 3,
   "id": "3a058b3d",
   "metadata": {},
   "outputs": [
    {
     "name": "stdout",
     "output_type": "stream",
     "text": [
      "1/1 [==============================] - 2s 2s/step\n",
      "Image 1\n",
      "Class: Chris\n",
      "Confidence Score: 0.9789645\n",
      "WARNING:tensorflow:5 out of the last 5 calls to <function Model.make_predict_function.<locals>.predict_function at 0x000001C8FA9CB310> triggered tf.function retracing. Tracing is expensive and the excessive number of tracings could be due to (1) creating @tf.function repeatedly in a loop, (2) passing tensors with different shapes, (3) passing Python objects instead of tensors. For (1), please define your @tf.function outside of the loop. For (2), @tf.function has reduce_retracing=True option that can avoid unnecessary retracing. For (3), please refer to https://www.tensorflow.org/guide/function#controlling_retracing and https://www.tensorflow.org/api_docs/python/tf/function for  more details.\n",
      "1/1 [==============================] - 2s 2s/step\n",
      "Image 2\n",
      "Class: Chris\n",
      "Confidence Score: 0.9961306\n",
      "WARNING:tensorflow:6 out of the last 6 calls to <function Model.make_predict_function.<locals>.predict_function at 0x000001C8FA9CBB80> triggered tf.function retracing. Tracing is expensive and the excessive number of tracings could be due to (1) creating @tf.function repeatedly in a loop, (2) passing tensors with different shapes, (3) passing Python objects instead of tensors. For (1), please define your @tf.function outside of the loop. For (2), @tf.function has reduce_retracing=True option that can avoid unnecessary retracing. For (3), please refer to https://www.tensorflow.org/guide/function#controlling_retracing and https://www.tensorflow.org/api_docs/python/tf/function for  more details.\n",
      "1/1 [==============================] - 2s 2s/step\n",
      "Image 3\n",
      "Class: Chris\n",
      "Confidence Score: 0.99984145\n"
     ]
    }
   ],
   "source": [
    "# Loops through the 3 test images and get predictions\n",
    "\n",
    "for imageNum in range (1,4):\n",
    "    predictPerson(\"Chris\", imageNum)"
   ]
  },
  {
   "cell_type": "markdown",
   "id": "35e0ab92",
   "metadata": {},
   "source": [
    "## Prediction results for Chris\n",
    "\n",
    "Image 1 : Chris\n",
    "<br>\n",
    "Image 2: Chris\n",
    "<br>\n",
    "Image 3: Chris\n",
    "\n",
    "Accuracy: 3/3"
   ]
  },
  {
   "cell_type": "code",
   "execution_count": 4,
   "id": "6c6f3ec0",
   "metadata": {},
   "outputs": [
    {
     "name": "stdout",
     "output_type": "stream",
     "text": [
      "1/1 [==============================] - 4s 4s/step\n",
      "Image 1\n",
      "Class: Michelle\n",
      "Confidence Score: 0.68753487\n",
      "1/1 [==============================] - 3s 3s/step\n",
      "Image 2\n",
      "Class: Emma\n",
      "Confidence Score: 0.8224627\n",
      "1/1 [==============================] - 2s 2s/step\n",
      "Image 3\n",
      "Class: Emma\n",
      "Confidence Score: 0.99997306\n"
     ]
    }
   ],
   "source": [
    "for imageNum in range (1,4):\n",
    "    predictPerson(\"Emma\", imageNum)"
   ]
  },
  {
   "cell_type": "markdown",
   "id": "61c3bcfb",
   "metadata": {},
   "source": [
    "## Prediction results for Emma\n",
    "\n",
    "Image 1 : Michelle\n",
    "<br>\n",
    "Image 2: Emma\n",
    "<br>\n",
    "Image 3: Emma\n",
    "\n",
    "Accuracy: 2/3"
   ]
  },
  {
   "cell_type": "code",
   "execution_count": 5,
   "id": "6eb4e332",
   "metadata": {},
   "outputs": [
    {
     "name": "stdout",
     "output_type": "stream",
     "text": [
      "1/1 [==============================] - 2s 2s/step\n",
      "Image 1\n",
      "Class: Obama\n",
      "Confidence Score: 0.7640688\n",
      "1/1 [==============================] - 2s 2s/step\n",
      "Image 2\n",
      "Class: Jackie\n",
      "Confidence Score: 0.9996228\n",
      "1/1 [==============================] - 2s 2s/step\n",
      "Image 3\n",
      "Class: Jackie\n",
      "Confidence Score: 0.7226068\n"
     ]
    }
   ],
   "source": [
    "for imageNum in range (1,4):\n",
    "    predictPerson(\"Jackie\", imageNum)"
   ]
  },
  {
   "cell_type": "markdown",
   "id": "9283602b",
   "metadata": {},
   "source": [
    "## Prediction results for Jackie\n",
    "\n",
    "Image 1 : Obama\n",
    "<br>\n",
    "Image 2: Jackie\n",
    "<br>\n",
    "Image 3: Jackie\n",
    "\n",
    "Accuracy: 2/3"
   ]
  },
  {
   "cell_type": "code",
   "execution_count": 6,
   "id": "f6ce0c09",
   "metadata": {},
   "outputs": [
    {
     "name": "stdout",
     "output_type": "stream",
     "text": [
      "1/1 [==============================] - 2s 2s/step\n",
      "Image 1\n",
      "Class: Zendaya\n",
      "Confidence Score: 0.7767311\n",
      "1/1 [==============================] - 2s 2s/step\n",
      "Image 2\n",
      "Class: Priyanka\n",
      "Confidence Score: 0.49239206\n",
      "1/1 [==============================] - 2s 2s/step\n",
      "Image 3\n",
      "Class: Michelle\n",
      "Confidence Score: 0.5680801\n"
     ]
    }
   ],
   "source": [
    "for imageNum in range (1,4):\n",
    "    predictPerson(\"Michelle\", imageNum)"
   ]
  },
  {
   "cell_type": "markdown",
   "id": "0f4362c4",
   "metadata": {},
   "source": [
    "## Prediction results for Michelle\n",
    "\n",
    "Image 1 : Zendaya\n",
    "<br>\n",
    "Image 2: Priyanka\n",
    "<br>\n",
    "Image 3: Michelle\n",
    "\n",
    "Accuracy: 1/3"
   ]
  },
  {
   "cell_type": "code",
   "execution_count": 7,
   "id": "79168056",
   "metadata": {},
   "outputs": [
    {
     "name": "stdout",
     "output_type": "stream",
     "text": [
      "1/1 [==============================] - 2s 2s/step\n",
      "Image 1\n",
      "Class: Nicki\n",
      "Confidence Score: 0.9425285\n",
      "1/1 [==============================] - 2s 2s/step\n",
      "Image 2\n",
      "Class: Emma\n",
      "Confidence Score: 0.28326866\n",
      "1/1 [==============================] - 2s 2s/step\n",
      "Image 3\n",
      "Class: Zendaya\n",
      "Confidence Score: 0.5914312\n"
     ]
    }
   ],
   "source": [
    "for imageNum in range (1,4):\n",
    "    predictPerson(\"Nicki\", imageNum)"
   ]
  },
  {
   "cell_type": "markdown",
   "id": "e8a78897",
   "metadata": {},
   "source": [
    "## Prediction results for Nicki\n",
    "\n",
    "Image 1 : Nicki\n",
    "<br>\n",
    "Image 2: Emma\n",
    "<br>\n",
    "Image 3: Zendaya\n",
    "\n",
    "Accuracy: 1/3"
   ]
  },
  {
   "cell_type": "code",
   "execution_count": 8,
   "id": "26fb2c6b",
   "metadata": {},
   "outputs": [
    {
     "name": "stdout",
     "output_type": "stream",
     "text": [
      "1/1 [==============================] - 2s 2s/step\n",
      "Image 1\n",
      "Class: Obama\n",
      "Confidence Score: 0.9994836\n",
      "1/1 [==============================] - 2s 2s/step\n",
      "Image 2\n",
      "Class: Obama\n",
      "Confidence Score: 0.9971976\n",
      "1/1 [==============================] - 2s 2s/step\n",
      "Image 3\n",
      "Class: Obama\n",
      "Confidence Score: 0.9999343\n"
     ]
    }
   ],
   "source": [
    "for imageNum in range (1,4):\n",
    "    predictPerson(\"Obama\", imageNum)"
   ]
  },
  {
   "cell_type": "markdown",
   "id": "3ec8546d",
   "metadata": {},
   "source": [
    "## Prediction results for Obama\n",
    "\n",
    "Image 1 : Obama\n",
    "<br>\n",
    "Image 2: Obama\n",
    "<br>\n",
    "Image 3: Obama\n",
    "\n",
    "Accuracy: 3/3"
   ]
  },
  {
   "cell_type": "code",
   "execution_count": 9,
   "id": "8e265a74",
   "metadata": {},
   "outputs": [
    {
     "name": "stdout",
     "output_type": "stream",
     "text": [
      "1/1 [==============================] - 2s 2s/step\n",
      "Image 1\n",
      "Class: Priyanka\n",
      "Confidence Score: 0.759811\n",
      "1/1 [==============================] - 2s 2s/step\n",
      "Image 2\n",
      "Class: Emma\n",
      "Confidence Score: 0.68983513\n",
      "1/1 [==============================] - 2s 2s/step\n",
      "Image 3\n",
      "Class: Emma\n",
      "Confidence Score: 0.98458004\n"
     ]
    }
   ],
   "source": [
    "for imageNum in range (1,4):\n",
    "    predictPerson(\"Priyanka\", imageNum)"
   ]
  },
  {
   "cell_type": "markdown",
   "id": "c884c1af",
   "metadata": {},
   "source": [
    "## Prediction results for Priyanka\n",
    "\n",
    "Image 1 : Priyanka\n",
    "<br>\n",
    "Image 2: Emma\n",
    "<br>\n",
    "Image 3: Emma\n",
    "\n",
    "Accuracy: 1/3"
   ]
  },
  {
   "cell_type": "code",
   "execution_count": 10,
   "id": "3336dc80",
   "metadata": {},
   "outputs": [
    {
     "name": "stdout",
     "output_type": "stream",
     "text": [
      "1/1 [==============================] - 3s 3s/step\n",
      "Image 1\n",
      "Class: Bogum\n",
      "Confidence Score: 0.5924809\n",
      "1/1 [==============================] - 2s 2s/step\n",
      "Image 2\n",
      "Class: Emma\n",
      "Confidence Score: 0.95918113\n",
      "1/1 [==============================] - 2s 2s/step\n",
      "Image 3\n",
      "Class: Emma\n",
      "Confidence Score: 0.71002346\n"
     ]
    }
   ],
   "source": [
    "for imageNum in range (1,4):\n",
    "    predictPerson(\"Taeyeon\", imageNum)"
   ]
  },
  {
   "cell_type": "markdown",
   "id": "dbe58710",
   "metadata": {},
   "source": [
    "## Prediction results for Taeyeon\n",
    "\n",
    "Image 1 : Bogum\n",
    "<br>\n",
    "Image 2: Emma\n",
    "<br>\n",
    "Image 3: Emma\n",
    "\n",
    "Accuracy: 0/3"
   ]
  },
  {
   "cell_type": "code",
   "execution_count": 11,
   "id": "17d75f7d",
   "metadata": {},
   "outputs": [
    {
     "name": "stdout",
     "output_type": "stream",
     "text": [
      "1/1 [==============================] - 2s 2s/step\n",
      "Image 1\n",
      "Class: Zendaya\n",
      "Confidence Score: 0.8108377\n",
      "1/1 [==============================] - 3s 3s/step\n",
      "Image 2\n",
      "Class: Nicki\n",
      "Confidence Score: 0.7429075\n",
      "1/1 [==============================] - 2s 2s/step\n",
      "Image 3\n",
      "Class: Taeyeon\n",
      "Confidence Score: 0.3855211\n"
     ]
    }
   ],
   "source": [
    "for imageNum in range (1,4):\n",
    "    predictPerson(\"Zendaya\", imageNum)"
   ]
  },
  {
   "cell_type": "markdown",
   "id": "ff0776f9",
   "metadata": {},
   "source": [
    "## Prediction results for Zendaya\n",
    "\n",
    "Image 1 : Zendaya\n",
    "<br>\n",
    "Image 2: Nicki\n",
    "<br>\n",
    "Image 3: Taeyeon\n",
    "\n",
    "Accuracy: 1/3"
   ]
  }
 ],
 "metadata": {
  "kernelspec": {
   "display_name": "Python 3 (ipykernel)",
   "language": "python",
   "name": "python3"
  },
  "language_info": {
   "codemirror_mode": {
    "name": "ipython",
    "version": 3
   },
   "file_extension": ".py",
   "mimetype": "text/x-python",
   "name": "python",
   "nbconvert_exporter": "python",
   "pygments_lexer": "ipython3",
   "version": "3.9.13"
  }
 },
 "nbformat": 4,
 "nbformat_minor": 5
}

{
 "cells": [
  {
   "cell_type": "markdown",
   "id": "b33d4e3a",
   "metadata": {},
   "source": [
    "## Function to predict person"
   ]
  },
  {
   "cell_type": "code",
   "execution_count": 1,
   "id": "239a0ddd",
   "metadata": {},
   "outputs": [],
   "source": [
    "from keras.models import load_model\n",
    "\n",
    "# Import classifier\n",
    "classifier = load_model('face_VGG.h5')\n",
    "\n",
    "# Import libraries\n",
    "import os\n",
    "import cv2\n",
    "import numpy as np\n",
    "from os import listdir\n",
    "from os.path import isfile, join\n",
    "\n",
    "# Dictionary for classes\n",
    "face_dict = {\n",
    "    \"[0]\": \"Bogum\",\n",
    "    \"[1]\": \"Chris\",\n",
    "    \"[2]\": \"Emma\",\n",
    "    \"[3]\": \"Jackie\",\n",
    "    \"[4]\": \"Michelle\",\n",
    "    \"[5]\": \"Nicki\",\n",
    "    \"[6]\": \"Obama\",\n",
    "    \"[7]\": \"Priyanka\",\n",
    "    \"[8]\": \"Taeyeon\",\n",
    "    \"[9]\": \"Zendaya\"\n",
    "    \n",
    "}\n",
    "\n",
    "face_dict_n = {\n",
    "    \"Bogum\": \"Bogum\",\n",
    "    \"Chris\": \"Chris\",\n",
    "    \"Emma\": \"Emma\",\n",
    "    \"Jackie\": \"Jackie\",\n",
    "    \"Michelle\": \"Michelle\",\n",
    "    \"Nicki\": \"Nicki\",\n",
    "    \"Obama\": \"Obama\",\n",
    "    \"Priyanka\": \"Priyanka\",\n",
    "    \"Taeyeon\": \"Taeyeon\",\n",
    "    \"Zendaya\": \"Zendaya\"\n",
    "}\n",
    "\n",
    "# Draw square with predicted name\n",
    "def draw_test(name, pred, im):\n",
    "    human = face_dict[str(pred)]\n",
    "    BLACK = [0,0,0]\n",
    "    expanded_image = cv2.copyMakeBorder(im, 80, 0, 0, 100 ,cv2.BORDER_CONSTANT,value=BLACK)\n",
    "    cv2.putText(expanded_image, human, (20, 60) , cv2.FONT_HERSHEY_SIMPLEX,1, (0,0,255), 2)\n",
    "    cv2.imshow(name, expanded_image)\n",
    "    \n",
    "def predictionTest(person):\n",
    "    for i in range(1,4):\n",
    "        imagePath = \"/Users/Bryan Tan/Desktop/Project/Dataset/Test/Image/\"\n",
    "        imagePath = imagePath + person + \"/\" + str(i) + \".jpg\"\n",
    "        input_im = cv2.imread(imagePath)\n",
    "        input_original = input_im.copy()\n",
    "        input_original = cv2.resize(input_original, None, fx=0.5, fy=0.5, interpolation = cv2.INTER_LINEAR)\n",
    "\n",
    "        input_im = cv2.resize(input_im, (224, 224), interpolation = cv2.INTER_LINEAR)\n",
    "        input_im = input_im / 255.\n",
    "        input_im = input_im.reshape(1,224,224,3) \n",
    "\n",
    "        # Get Prediction\n",
    "        res = np.argmax(classifier.predict(input_im, 1, verbose = 0), axis=1)\n",
    "\n",
    "        # Show image with predicted class\n",
    "        draw_test(\"Prediction\", res, input_original) \n",
    "        cv2.waitKey(0)\n",
    "cv2.destroyAllWindows()"
   ]
  },
  {
   "cell_type": "markdown",
   "id": "af2c0a3a",
   "metadata": {},
   "source": [
    "## Prediction results\n"
   ]
  },
  {
   "cell_type": "code",
   "execution_count": 2,
   "id": "822ed13c",
   "metadata": {},
   "outputs": [],
   "source": [
    "predictionTest(\"Bogum\")"
   ]
  },
  {
   "cell_type": "markdown",
   "id": "a11a3eb4",
   "metadata": {},
   "source": [
    "## Prediction results for Bogum\n",
    "\n",
    "Image 1 : Bogum\n",
    "<br>\n",
    "Image 2: Bogum\n",
    "<br>\n",
    "Image 3: Bogum\n",
    "\n",
    "Accuracy: 3/3"
   ]
  },
  {
   "cell_type": "code",
   "execution_count": 3,
   "id": "aaf7a3f8",
   "metadata": {},
   "outputs": [],
   "source": [
    "predictionTest(\"Chris\")"
   ]
  },
  {
   "cell_type": "markdown",
   "id": "d679cba0",
   "metadata": {},
   "source": [
    "## Prediction results for Chris\n",
    "\n",
    "Image 1 : Jackie\n",
    "<br>\n",
    "Image 2: Jackie\n",
    "<br>\n",
    "Image 3: Chris\n",
    "\n",
    "Accuracy: 1/3"
   ]
  },
  {
   "cell_type": "code",
   "execution_count": 4,
   "id": "af0e183d",
   "metadata": {},
   "outputs": [],
   "source": [
    "predictionTest(\"Emma\")"
   ]
  },
  {
   "cell_type": "markdown",
   "id": "563962db",
   "metadata": {},
   "source": [
    "## Prediction results for Emma\n",
    "\n",
    "Image 1 : Bogum\n",
    "<br>\n",
    "Image 2: Nicki\n",
    "<br>\n",
    "Image 3: Emma\n",
    "\n",
    "Accuracy: 1/3"
   ]
  },
  {
   "cell_type": "code",
   "execution_count": 5,
   "id": "4ebe023d",
   "metadata": {},
   "outputs": [],
   "source": [
    "predictionTest(\"Jackie\")"
   ]
  },
  {
   "cell_type": "markdown",
   "id": "863837fe",
   "metadata": {},
   "source": [
    "## Prediction results for Jackie\n",
    "\n",
    "Image 1 : Chris\n",
    "<br>\n",
    "Image 2: Jackie\n",
    "<br>\n",
    "Image 3: Jackie\n",
    "\n",
    "Accuracy: 2/3"
   ]
  },
  {
   "cell_type": "code",
   "execution_count": 6,
   "id": "635b5b0b",
   "metadata": {},
   "outputs": [],
   "source": [
    "predictionTest(\"Michelle\")"
   ]
  },
  {
   "cell_type": "markdown",
   "id": "d180809c",
   "metadata": {},
   "source": [
    "## Prediction results for Michelle\n",
    "\n",
    "Image 1 : Bogum\n",
    "<br>\n",
    "Image 2: Nicki\n",
    "<br>\n",
    "Image 3: Obama\n",
    "\n",
    "Accuracy: 0/3"
   ]
  },
  {
   "cell_type": "code",
   "execution_count": 7,
   "id": "cfc81ef5",
   "metadata": {},
   "outputs": [],
   "source": [
    "predictionTest(\"Nicki\")"
   ]
  },
  {
   "cell_type": "markdown",
   "id": "5076a30c",
   "metadata": {},
   "source": [
    "## Prediction results for Nicki\n",
    "\n",
    "Image 1 : Jackie\n",
    "<br>\n",
    "Image 2: Emma\n",
    "<br>\n",
    "Image 3: Jackie\n",
    "\n",
    "Accuracy: 0/3"
   ]
  },
  {
   "cell_type": "code",
   "execution_count": 8,
   "id": "48d390e5",
   "metadata": {},
   "outputs": [],
   "source": [
    "predictionTest(\"Obama\")"
   ]
  },
  {
   "cell_type": "markdown",
   "id": "21190c40",
   "metadata": {},
   "source": [
    "## Prediction results for Obama\n",
    "\n",
    "Image 1 : Obama\n",
    "<br>\n",
    "Image 2: Obama\n",
    "<br>\n",
    "Image 3: Obama\n",
    "\n",
    "Accuracy: 3/3"
   ]
  },
  {
   "cell_type": "code",
   "execution_count": 9,
   "id": "35493714",
   "metadata": {},
   "outputs": [],
   "source": [
    "predictionTest(\"Priyanka\")"
   ]
  },
  {
   "cell_type": "markdown",
   "id": "bb6908dc",
   "metadata": {},
   "source": [
    "## Prediction results for Priyanka\n",
    "\n",
    "Image 1 : Zendaya\n",
    "<br>\n",
    "Image 2: Emma\n",
    "<br>\n",
    "Image 3: Emma\n",
    "\n",
    "Accuracy: 0/3"
   ]
  },
  {
   "cell_type": "code",
   "execution_count": 10,
   "id": "3336dc80",
   "metadata": {},
   "outputs": [],
   "source": [
    "predictionTest(\"Taeyeon\")"
   ]
  },
  {
   "cell_type": "markdown",
   "id": "268e0be1",
   "metadata": {},
   "source": [
    "## Prediction results for Taeyeon\n",
    "\n",
    "Image 1 : Zendaya\n",
    "<br>\n",
    "Image 2: Taeyeon\n",
    "<br>\n",
    "Image 3: Emma\n",
    "\n",
    "Accuracy: 1/3"
   ]
  },
  {
   "cell_type": "code",
   "execution_count": 11,
   "id": "bf37afee",
   "metadata": {},
   "outputs": [],
   "source": [
    "predictionTest(\"Zendaya\")"
   ]
  },
  {
   "cell_type": "markdown",
   "id": "cc9f1da4",
   "metadata": {},
   "source": [
    "## Prediction results for Zendaya\n",
    "\n",
    "Image 1 : Obama\n",
    "<br>\n",
    "Image 2: Emma\n",
    "<br>\n",
    "Image 3: Michelle\n",
    "\n",
    "Accuracy: 0/3"
   ]
  }
 ],
 "metadata": {
  "kernelspec": {
   "display_name": "Python 3 (ipykernel)",
   "language": "python",
   "name": "python3"
  },
  "language_info": {
   "codemirror_mode": {
    "name": "ipython",
    "version": 3
   },
   "file_extension": ".py",
   "mimetype": "text/x-python",
   "name": "python",
   "nbconvert_exporter": "python",
   "pygments_lexer": "ipython3",
   "version": "3.9.13"
  }
 },
 "nbformat": 4,
 "nbformat_minor": 5
}

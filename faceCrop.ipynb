{
 "cells": [
  {
   "cell_type": "markdown",
   "id": "cc8900bc",
   "metadata": {},
   "source": [
    "## Python notebook to crop faces of images"
   ]
  },
  {
   "cell_type": "markdown",
   "id": "4e1a3e66",
   "metadata": {},
   "source": [
    " "
   ]
  },
  {
   "cell_type": "markdown",
   "id": "4a5f655b",
   "metadata": {},
   "source": [
    "## Set file path to dataset"
   ]
  },
  {
   "cell_type": "code",
   "execution_count": 1,
   "id": "899384ce",
   "metadata": {},
   "outputs": [],
   "source": [
    "folderPath = \"/Users/Bryan Tan/Desktop/Project/Dataset/\""
   ]
  },
  {
   "cell_type": "markdown",
   "id": "45d718aa",
   "metadata": {},
   "source": [
    "## Functions to crop face in test and train folder"
   ]
  },
  {
   "cell_type": "code",
   "execution_count": 2,
   "id": "2691d259",
   "metadata": {},
   "outputs": [],
   "source": [
    "# Import necessary libraries\n",
    "from PIL import Image\n",
    "import face_recognition\n",
    "\n",
    "# Function for cropping images in train folder\n",
    "def cropFaceTrain(folderName):\n",
    "    # Loop through all 10 images\n",
    "    for x in range(1,11):\n",
    "        # Get image number\n",
    "        strNum = str(x)\n",
    "        # Get image path\n",
    "        imagePath = \"/Users/Bryan Tan/Desktop/Project/Dataset/Train/Image/\" + folderName + \"/\" + strNum + \".jpg\"\n",
    "        # Load image\n",
    "        image = face_recognition.load_image_file(imagePath)\n",
    "        # Get face location\n",
    "        face_locations = face_recognition.face_locations(image)\n",
    "        \n",
    "        for face_location in face_locations:\n",
    "            top, right, bottom, left = face_location\n",
    "            face_image = image[top:bottom, left:right]\n",
    "            pil_image = Image.fromarray(face_image)\n",
    "            # Save cropped image into folder\n",
    "            pil_image.save(\"/Users/Bryan Tan/Desktop/Project/Dataset/Train/Cropped/\" + folderName + \"/\" + strNum + \".jpg\")\n",
    "    print(folderName + \" folder cropped successfully!\")\n",
    "\n",
    "# Function for cropping images in test folder\n",
    "def cropFaceTest(folderName):\n",
    "    for x in range(1,4):\n",
    "        # Get image number\n",
    "        strNum = str(x)\n",
    "        # Get image path\n",
    "        imagePath = \"/Users/Bryan Tan/Desktop/Project/Dataset/Test/Image/\" + folderName + \"/\" + strNum + \".jpg\"\n",
    "        # Load image\n",
    "        image = face_recognition.load_image_file(imagePath)\n",
    "        # Get face location\n",
    "        face_locations = face_recognition.face_locations(image)\n",
    "\n",
    "        for face_location in face_locations:\n",
    "            top, right, bottom, left = face_location\n",
    "            face_image = image[top:bottom, left:right]\n",
    "            pil_image = Image.fromarray(face_image)\n",
    "            # Save cropped image into folder\n",
    "            pil_image.save(\"/Users/Bryan Tan/Desktop/Project/Dataset/Test/Cropped/\" + folderName + \"/\" + strNum + \".jpg\")\n",
    "    print(folderName + \" folder cropped successfully!\")"
   ]
  },
  {
   "cell_type": "code",
   "execution_count": 13,
   "id": "6f82f17c",
   "metadata": {
    "scrolled": true
   },
   "outputs": [
    {
     "name": "stdout",
     "output_type": "stream",
     "text": [
      "Taeyeon folder cropped successfully!\n",
      "Taeyeon folder cropped successfully!\n"
     ]
    }
   ],
   "source": [
    "cropFaceTrain(\"Taeyeon\")\n",
    "cropFaceTest(\"Taeyeon\")"
   ]
  },
  {
   "cell_type": "code",
   "execution_count": 17,
   "id": "e03d9c2f",
   "metadata": {},
   "outputs": [
    {
     "name": "stdout",
     "output_type": "stream",
     "text": [
      "Bogum folder cropped successfully!\n",
      "Bogum folder cropped successfully!\n"
     ]
    }
   ],
   "source": [
    "cropFaceTrain(\"Bogum\")\n",
    "cropFaceTest(\"Bogum\")"
   ]
  },
  {
   "cell_type": "code",
   "execution_count": 19,
   "id": "e817f8ca",
   "metadata": {},
   "outputs": [
    {
     "name": "stdout",
     "output_type": "stream",
     "text": [
      "Zendaya folder cropped successfully!\n",
      "Zendaya folder cropped successfully!\n"
     ]
    }
   ],
   "source": [
    "cropFaceTrain(\"Zendaya\")\n",
    "cropFaceTest(\"Zendaya\")"
   ]
  },
  {
   "cell_type": "code",
   "execution_count": 5,
   "id": "c769cf56",
   "metadata": {},
   "outputs": [
    {
     "name": "stdout",
     "output_type": "stream",
     "text": [
      "Priyanka folder cropped successfully!\n",
      "Priyanka folder cropped successfully!\n"
     ]
    }
   ],
   "source": [
    "cropFaceTrain(\"Priyanka\")\n",
    "cropFaceTest(\"Priyanka\")"
   ]
  },
  {
   "cell_type": "code",
   "execution_count": 6,
   "id": "000cd42a",
   "metadata": {},
   "outputs": [
    {
     "name": "stdout",
     "output_type": "stream",
     "text": [
      "Obama folder cropped successfully!\n",
      "Obama folder cropped successfully!\n"
     ]
    }
   ],
   "source": [
    "cropFaceTrain(\"Obama\")\n",
    "cropFaceTest(\"Obama\")"
   ]
  },
  {
   "cell_type": "code",
   "execution_count": 9,
   "id": "d33cb25a",
   "metadata": {
    "scrolled": true
   },
   "outputs": [
    {
     "name": "stdout",
     "output_type": "stream",
     "text": [
      "Emma folder cropped successfully!\n",
      "Emma folder cropped successfully!\n"
     ]
    }
   ],
   "source": [
    "cropFaceTrain(\"Emma\")\n",
    "cropFaceTest(\"Emma\")"
   ]
  },
  {
   "cell_type": "code",
   "execution_count": 11,
   "id": "a8a53b46",
   "metadata": {},
   "outputs": [
    {
     "name": "stdout",
     "output_type": "stream",
     "text": [
      "Chris folder cropped successfully!\n",
      "Chris folder cropped successfully!\n"
     ]
    }
   ],
   "source": [
    "cropFaceTrain(\"Chris\")\n",
    "cropFaceTest(\"Chris\")"
   ]
  },
  {
   "cell_type": "code",
   "execution_count": 16,
   "id": "7335647e",
   "metadata": {},
   "outputs": [
    {
     "name": "stdout",
     "output_type": "stream",
     "text": [
      "Michelle folder cropped successfully!\n"
     ]
    }
   ],
   "source": [
    "cropFaceTrain(\"Michelle\")\n",
    "cropFaceTest(\"Michelle\")"
   ]
  },
  {
   "cell_type": "code",
   "execution_count": 18,
   "id": "5b6da07a",
   "metadata": {},
   "outputs": [
    {
     "name": "stdout",
     "output_type": "stream",
     "text": [
      "Jackie folder cropped successfully!\n",
      "Jackie folder cropped successfully!\n"
     ]
    }
   ],
   "source": [
    "cropFaceTrain(\"Jackie\")\n",
    "cropFaceTest(\"Jackie\")"
   ]
  },
  {
   "cell_type": "code",
   "execution_count": 21,
   "id": "6079429c",
   "metadata": {},
   "outputs": [
    {
     "name": "stdout",
     "output_type": "stream",
     "text": [
      "Nicki folder cropped successfully!\n",
      "Nicki folder cropped successfully!\n"
     ]
    }
   ],
   "source": [
    "cropFaceTrain(\"Nicki\")\n",
    "cropFaceTest(\"Nicki\")"
   ]
  }
 ],
 "metadata": {
  "kernelspec": {
   "display_name": "Python 3 (ipykernel)",
   "language": "python",
   "name": "python3"
  },
  "language_info": {
   "codemirror_mode": {
    "name": "ipython",
    "version": 3
   },
   "file_extension": ".py",
   "mimetype": "text/x-python",
   "name": "python",
   "nbconvert_exporter": "python",
   "pygments_lexer": "ipython3",
   "version": "3.9.13"
  }
 },
 "nbformat": 4,
 "nbformat_minor": 5
}
